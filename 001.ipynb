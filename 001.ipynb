{
 "cells": [
  {
   "cell_type": "code",
   "execution_count": 40,
   "id": "36ecaffe-10da-435e-94bd-91dc5164e539",
   "metadata": {},
   "outputs": [],
   "source": [
    "data_pre = open('iat_pretrain/data_gen/tmp_data_nuswide/pretrain_data.txt','r').readlines()\n",
    "data_fin = open('iat_pretrain/data_gen/tmp_data_nuswide/finetune_data.txt','r').readlines()"
   ]
  },
  {
   "cell_type": "code",
   "execution_count": 41,
   "id": "30cabb29-e2c6-4667-bf5d-8abf810ce7ce",
   "metadata": {},
   "outputs": [],
   "source": [
    "import random\n",
    "import tqdm"
   ]
  },
  {
   "cell_type": "code",
   "execution_count": 42,
   "id": "f35334f8-5520-44f2-b36c-1e8761fe4e44",
   "metadata": {},
   "outputs": [],
   "source": [
    "random.shuffle(data_fin)\n",
    "random.shuffle(data_pre)"
   ]
  },
  {
   "cell_type": "code",
   "execution_count": 50,
   "id": "f2430816-d370-4d31-afb2-037c0b81ed75",
   "metadata": {},
   "outputs": [
    {
     "data": {
      "text/plain": [
       "203059"
      ]
     },
     "execution_count": 50,
     "metadata": {},
     "output_type": "execute_result"
    }
   ],
   "source": [
    "len(data_fin)"
   ]
  },
  {
   "cell_type": "code",
   "execution_count": 51,
   "id": "c84e8762-6764-4ae5-81ef-1cff73c7dd71",
   "metadata": {},
   "outputs": [
    {
     "data": {
      "text/plain": [
       "1804864"
      ]
     },
     "execution_count": 51,
     "metadata": {},
     "output_type": "execute_result"
    }
   ],
   "source": [
    "len(data_pre)"
   ]
  },
  {
   "cell_type": "code",
   "execution_count": 52,
   "id": "1cfa8218-24ee-47ce-a502-468ec91b165c",
   "metadata": {},
   "outputs": [],
   "source": [
    "pre_200 = open('data/pretrain_nuswide_200w.txt','w')\n",
    "pre_150 = open('data/pretrain_nuswide_150w.txt','w')\n",
    "pre_100 = open('data/pretrain_nuswide_100w.txt','w')\n",
    "pre_50 = open('data/pretrain_nuswide_50w.txt','w')\n",
    "\n",
    "fin_20 = open('data/finetune_nuswide_20w.txt','w')\n",
    "fin_15 = open('data/finetune_nuswide_15w.txt','w')\n",
    "fin_10 = open('data/finetune_nuswide_10w.txt','w')\n",
    "fin_5 = open('data/finetune_nuswide_5w.txt','w')"
   ]
  },
  {
   "cell_type": "code",
   "execution_count": 53,
   "id": "b8f1fee5-18bb-4ee4-93c7-f25d981a3d3f",
   "metadata": {},
   "outputs": [
    {
     "name": "stderr",
     "output_type": "stream",
     "text": [
      "100%|██████████| 1804864/1804864 [00:02<00:00, 855336.15it/s]\n"
     ]
    }
   ],
   "source": [
    "for t in tqdm.tqdm(data_pre):\n",
    "    while t[0] == ' ':\n",
    "        t = t[1:]\n",
    "    while '.' in t:\n",
    "        t = t.replace('.',' ')\n",
    "    if random.random()<1.1:\n",
    "        pre_200.write(t)\n",
    "    if random.random()<0.75:\n",
    "        pre_150.write(t)\n",
    "    if random.random()<0.5:\n",
    "        pre_100.write(t)\n",
    "    if random.random()<0.25:\n",
    "        pre_50.write(t)"
   ]
  },
  {
   "cell_type": "code",
   "execution_count": 54,
   "id": "ef8cace2-bb89-416f-be53-7a73b76708e0",
   "metadata": {},
   "outputs": [
    {
     "name": "stderr",
     "output_type": "stream",
     "text": [
      "100%|██████████| 203059/203059 [00:00<00:00, 895738.21it/s]\n"
     ]
    }
   ],
   "source": [
    "for w in tqdm.tqdm(data_fin):\n",
    "    while w[0] == ' ':\n",
    "        w = w[1:]\n",
    "    while '.' in w:\n",
    "        w = w.replace('.',' ')\n",
    "    if random.random()<1.1:\n",
    "        fin_20.write(w)\n",
    "    if random.random()<0.75:\n",
    "        fin_15.write(w)\n",
    "    if random.random()<0.5:\n",
    "        fin_10.write(w)\n",
    "    if random.random()<0.25:\n",
    "        fin_5.write(w)"
   ]
  },
  {
   "cell_type": "code",
   "execution_count": 39,
   "id": "400dee37-cfbe-4308-85db-64bb4aac9dd6",
   "metadata": {},
   "outputs": [
    {
     "ename": "UnsupportedOperation",
     "evalue": "not readable",
     "output_type": "error",
     "traceback": [
      "\u001b[0;31m---------------------------------------------------------------------------\u001b[0m",
      "\u001b[0;31mUnsupportedOperation\u001b[0m                      Traceback (most recent call last)",
      "Cell \u001b[0;32mIn[39], line 1\u001b[0m\n\u001b[0;32m----> 1\u001b[0m \u001b[38;5;28mlen\u001b[39m(\u001b[43mpre_200\u001b[49m\u001b[38;5;241;43m.\u001b[39;49m\u001b[43mreadlines\u001b[49m\u001b[43m(\u001b[49m\u001b[43m)\u001b[49m)\n",
      "\u001b[0;31mUnsupportedOperation\u001b[0m: not readable"
     ]
    }
   ],
   "source": [
    "len(pre_200.readlines())"
   ]
  },
  {
   "cell_type": "code",
   "execution_count": null,
   "id": "76ce771f-1105-4132-9614-7978d48cd9bd",
   "metadata": {},
   "outputs": [],
   "source": []
  }
 ],
 "metadata": {
  "kernelspec": {
   "display_name": "smallcap",
   "language": "python",
   "name": "smallcap"
  },
  "language_info": {
   "codemirror_mode": {
    "name": "ipython",
    "version": 3
   },
   "file_extension": ".py",
   "mimetype": "text/x-python",
   "name": "python",
   "nbconvert_exporter": "python",
   "pygments_lexer": "ipython3",
   "version": "3.9.18"
  }
 },
 "nbformat": 4,
 "nbformat_minor": 5
}
